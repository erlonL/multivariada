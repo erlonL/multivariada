{
 "cells": [
  {
   "cell_type": "code",
   "execution_count": 13,
   "metadata": {},
   "outputs": [],
   "source": [
    "import numpy as np\n",
    "import matplotlib.pyplot as plt\n",
    "import networkx as nx"
   ]
  },
  {
   "cell_type": "markdown",
   "metadata": {},
   "source": [
    "Calcule os autovalores e os autovetores associados da matriz $A = X^t X$"
   ]
  },
  {
   "cell_type": "code",
   "execution_count": 87,
   "metadata": {},
   "outputs": [],
   "source": [
    "X = np.mat([[1, 2, -1, 3], [2, 4, 1, 1], [1,3, -2, 0],\n",
    "              [1,4,-1,7], [1,-1,3,3],[1,3,2,1]])"
   ]
  },
  {
   "cell_type": "code",
   "execution_count": 90,
   "metadata": {},
   "outputs": [
    {
     "name": "stdout",
     "output_type": "stream",
     "text": [
      "[[ 1  2 -1  3]\n",
      " [ 2  4  1  1]\n",
      " [ 1  3 -2  0]\n",
      " [ 1  4 -1  7]\n",
      " [ 1 -1  3  3]\n",
      " [ 1  3  2  1]]\n"
     ]
    }
   ],
   "source": [
    "print(X)"
   ]
  },
  {
   "cell_type": "code",
   "execution_count": 91,
   "metadata": {},
   "outputs": [
    {
     "name": "stdout",
     "output_type": "stream",
     "text": [
      "[[ 9 19  3 16]\n",
      " [19 55 -5 38]\n",
      " [ 3 -5 20  2]\n",
      " [16 38  2 69]]\n"
     ]
    }
   ],
   "source": [
    "A = X.T * X\n",
    "eigenvaluesA, eigenvectorsA = np.linalg.eig(A)\n",
    "print(A)"
   ]
  },
  {
   "cell_type": "code",
   "execution_count": 92,
   "metadata": {},
   "outputs": [
    {
     "name": "stdout",
     "output_type": "stream",
     "text": [
      "[106.78007074   1.04697431  18.02454757  27.14840738]\n"
     ]
    }
   ],
   "source": [
    "print((eigenvaluesA))"
   ]
  },
  {
   "cell_type": "code",
   "execution_count": 93,
   "metadata": {},
   "outputs": [
    {
     "name": "stdout",
     "output_type": "stream",
     "text": [
      "[[ 0.24282056]\n",
      " [ 0.63088861]\n",
      " [-0.01097429]\n",
      " [ 0.73681565]]\n"
     ]
    }
   ],
   "source": [
    "# Eigenvector corresponding to the first eigenvalue\n",
    "print(eigenvectorsA[:,0])"
   ]
  },
  {
   "cell_type": "markdown",
   "metadata": {},
   "source": [
    "Quais os valores máximos de $\\text( \\mathbf{x}^T \\mathbf{A} \\mathbf{x} ) \\text{ e de } ( \\mathbf{x}^T \\mathbf{C} \\mathbf{x} ) \\text{ sujeitos à condição }( \\mathbf{x}^T \\mathbf{x} = 1 )$"
   ]
  },
  {
   "cell_type": "code",
   "execution_count": 94,
   "metadata": {},
   "outputs": [
    {
     "name": "stdout",
     "output_type": "stream",
     "text": [
      "106.78007073615613\n"
     ]
    }
   ],
   "source": [
    "# Lembrar de justificar com o teorema\n",
    "max_eigenvalueA = max(eigenvaluesA)\n",
    "print(max_eigenvalueA)\n"
   ]
  },
  {
   "cell_type": "code",
   "execution_count": null,
   "metadata": {},
   "outputs": [],
   "source": [
    "# Calcular observações\n",
    "\n",
    "# calcular produto interno\n",
    "\n",
    "# calcular norma\n"
   ]
  },
  {
   "cell_type": "markdown",
   "metadata": {},
   "source": [
    "- $\\text{Calcule os dois primeiros fatores para cada uma das seis observações } (o_1, o_2, \\ldots, o_6).\\\\ \\text{ Vamos denotar os vetores bidimensionais } (O_{1}, O_2, \\ldots, O_6)\\\\ \\text{ correspondentes aos dois fatores das seis observações.}$\n"
   ]
  },
  {
   "cell_type": "code",
   "execution_count": 95,
   "metadata": {},
   "outputs": [
    {
     "name": "stdout",
     "output_type": "stream",
     "text": [
      "[[ 3.72601903 -0.18520203]\n",
      " [ 3.73503691 -1.46614629]\n",
      " [ 2.15743497 -3.0206559 ]\n",
      " [ 7.93505885  0.80420499]\n",
      " [ 1.78945602  3.89096689]\n",
      " [ 2.85035345 -0.23193003]]\n"
     ]
    }
   ],
   "source": [
    "\n",
    "F = np.linalg.norm(eigenvectorsA, axis=1) # para ver se ta normalizado\n",
    "C = eigenvectorsA[:, [0, -1]] #dois primeiros fatores\n",
    "Fat = X*C\n",
    "print(Fat) # vetores bidimensionais\n"
   ]
  },
  {
   "cell_type": "markdown",
   "metadata": {},
   "source": [
    "* Construa um grafo, onde os vértices são os pontos O1, O2, ..., O6 e dois pontos são ligados entre si se um deles é o ponto mais próximo do outro."
   ]
  },
  {
   "cell_type": "code",
   "execution_count": 99,
   "metadata": {},
   "outputs": [],
   "source": [
    "def dist_euclidiana(p1, p2):\n",
    "    return np.sqrt(np.sum(np.asarray(p1 -p2)**2))"
   ]
  },
  {
   "cell_type": "code",
   "execution_count": 171,
   "metadata": {},
   "outputs": [],
   "source": [
    "num_pontos = Fat.shape[0]\n",
    "distancias = np.zeros((num_pontos, num_pontos))\n",
    "for i in range(num_pontos):\n",
    "    for j in range(num_pontos):\n",
    "        if i!=j:\n",
    "            distancias[i, j] = dist_euclidiana(Fat[i], Fat[j])\n",
    "            #print(distancias[i, j])\n",
    "\n",
    "vizinhos_mais_proximos = np.argmin(distancias + np.eye(num_pontos) * np.max(distancias), axis=1)"
   ]
  },
  {
   "cell_type": "code",
   "execution_count": 187,
   "metadata": {},
   "outputs": [
    {
     "data": {
      "image/png": "[encoded data removed]",
      "text/plain": [
       "<Figure size 640x480 with 1 Axes>"
      ]
     },
     "metadata": {},
     "output_type": "display_data"
    }
   ],
   "source": [
    "G = nx.Graph()\n",
    "for i in range(num_pontos):\n",
    "    G.add_node(i, pos=(Fat[i, 0], Fat[i, 1]))\n",
    "    nearest = vizinhos_mais_proximos[i]\n",
    "    G.add_edge(i, nearest)\n",
    "\n",
    "    # Retrieve node positions\n",
    "pos = nx.get_node_attributes(G, 'pos')\n",
    "labels = {i: f'$O_{{{i + 1}}}$'  for i in G.nodes()}\n",
    "\n",
    "# Plot the graph with original positions\n",
    "nx.draw(G, pos, labels=labels, with_labels=True, node_color='pink', node_size=900)\n",
    "plt.show()"
   ]
  },
  {
   "cell_type": "markdown",
   "metadata": {},
   "source": [
    "* Construa um grafo, onde os vértices são os pontos $o_1, o_2, ..., o_6$ e dois pontos são ligados entre si se um deles é o ponto mais próximo do outro."
   ]
  },
  {
   "cell_type": "markdown",
   "metadata": {},
   "source": [
    "Dúvida: como representar $o_i$. Tem a ver com projeção ?"
   ]
  },
  {
   "cell_type": "code",
   "execution_count": 226,
   "metadata": {},
   "outputs": [
    {
     "data": {
      "text/plain": [
       "6"
      ]
     },
     "execution_count": 226,
     "metadata": {},
     "output_type": "execute_result"
    }
   ],
   "source": [
    "num_pontos = X.shape[0]\n",
    "num_pontos"
   ]
  },
  {
   "cell_type": "code",
   "execution_count": 224,
   "metadata": {},
   "outputs": [
    {
     "data": {
      "text/plain": [
       "(6, 4)"
      ]
     },
     "execution_count": 224,
     "metadata": {},
     "output_type": "execute_result"
    }
   ],
   "source": [
    "X.shape"
   ]
  },
  {
   "cell_type": "code",
   "execution_count": 213,
   "metadata": {},
   "outputs": [],
   "source": [
    "def dist_euclidiana(p1, p2):\n",
    "    return np.sqrt(np.sum(np.asarray(p1 -p2)**2))"
   ]
  },
  {
   "cell_type": "code",
   "execution_count": 227,
   "metadata": {},
   "outputs": [],
   "source": [
    "distancias = np.zeros((num_pontos, num_pontos))\n",
    "for i in range(num_pontos):\n",
    "    for j in range(num_pontos):\n",
    "        if i!=j:\n",
    "            distancias[i, j] = dist_euclidiana(X[i,:], X[j,:])\n",
    "vizinhos_mais_proximos = np.argmin(distancias + np.eye(num_pontos) * np.max(distancias), axis=1)"
   ]
  },
  {
   "cell_type": "code",
   "execution_count": 228,
   "metadata": {},
   "outputs": [
    {
     "data": {
      "text/plain": [
       "array([2, 5, 0, 0, 5, 1], dtype=int64)"
      ]
     },
     "execution_count": 228,
     "metadata": {},
     "output_type": "execute_result"
    }
   ],
   "source": [
    "vizinhos_mais_proximos"
   ]
  },
  {
   "cell_type": "code",
   "execution_count": 234,
   "metadata": {},
   "outputs": [
    {
     "data": {
      "text/plain": [
       "1"
      ]
     },
     "execution_count": 234,
     "metadata": {},
     "output_type": "execute_result"
    }
   ],
   "source": [
    "X[0, 0]"
   ]
  },
  {
   "cell_type": "code",
   "execution_count": 233,
   "metadata": {},
   "outputs": [
    {
     "data": {
      "image/png": "[encoded data removed]",
      "text/plain": [
       "<Figure size 640x480 with 1 Axes>"
      ]
     },
     "metadata": {},
     "output_type": "display_data"
    }
   ],
   "source": [
    "\n",
    "G = nx.Graph()\n",
    "for i in range(num_pontos):\n",
    "    G.add_node(i, pos=(X[i, 0], X[i, 1]))\n",
    "    nearest = vizinhos_mais_proximos[i]\n",
    "    G.add_edge(i, nearest)\n",
    "\n",
    "    # Retrieve node positions\n",
    "pos = nx.get_node_attributes(G, 'pos')\n",
    "labels = {i: f'$o_{{{i + 1}}}$'  for i in G.nodes()}\n",
    "\n",
    "# Plot the graph with original positions\n",
    "nx.draw(G, pos, labels=labels, with_labels=True, node_color='pink', node_size=900)\n",
    "plt.show()"
   ]
  },
  {
   "cell_type": "markdown",
   "metadata": {},
   "source": [
    "- Calcule a métrica que envolve a razão entre a soma dos dois primeiros\n",
    "autovalores de A e a soma de todos os seus autovalores."
   ]
  },
  {
   "cell_type": "markdown",
   "metadata": {},
   "source": [
    "- Você acha que valeria a pena calcular um terceiro fator para o problema\n",
    "de achar os grafos acima, justifique sua resposta."
   ]
  }
 ],
 "metadata": {
  "kernelspec": {
   "display_name": "tril2",
   "language": "python",
   "name": "python3"
  },
  "language_info": {
   "codemirror_mode": {
    "name": "ipython",
    "version": 3
   },
   "file_extension": ".py",
   "mimetype": "text/x-python",
   "name": "python",
   "nbconvert_exporter": "python",
   "pygments_lexer": "ipython3",
   "version": "3.9.19"
  }
 },
 "nbformat": 4,
 "nbformat_minor": 2
}

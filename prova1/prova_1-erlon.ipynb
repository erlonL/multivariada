{
 "cells": [
  {
   "cell_type": "code",
   "execution_count": 52,
   "metadata": {},
   "outputs": [],
   "source": [
    "import numpy as np\n",
    "from sklearn.decomposition import PCA\n",
    "import pandas as pd"
   ]
  },
  {
   "cell_type": "code",
   "execution_count": 3,
   "metadata": {},
   "outputs": [],
   "source": [
    "X = np.array([[75, 43, 17, 95, 9],\n",
    "                [0, 22, 0, 70, 11],\n",
    "                [55, 0, 4, 110, 0],\n",
    "                [0, 0, 12, 0, 11],\n",
    "                [0, 25, 0, 0, 19],\n",
    "                [35, 40, 0, 0, 0],\n",
    "                [135, 0, 5, 145, 25],\n",
    "                [0, 40, 27, 180, 15],\n",
    "                [75, 0, 0, 85, 0],\n",
    "                [125, 32, 7, 0, 10]])"
   ]
  },
  {
   "cell_type": "markdown",
   "metadata": {},
   "source": [
    "# Questão 1"
   ]
  },
  {
   "cell_type": "code",
   "execution_count": 4,
   "metadata": {},
   "outputs": [
    {
     "data": {
      "text/plain": [
       "array([[49350,  8625,  3045, 39125,  5300],\n",
       "       [ 8625,  7182,  2035, 12825,  2024],\n",
       "       [ 3045,  2035,  1252,  7640,   885],\n",
       "       [39125, 12825,  7640, 86675,  7950],\n",
       "       [ 5300,  2024,   885,  7950,  1634]])"
      ]
     },
     "execution_count": 4,
     "metadata": {},
     "output_type": "execute_result"
    }
   ],
   "source": [
    "A = np.dot(X.T, X)\n",
    "A"
   ]
  },
  {
   "cell_type": "markdown",
   "metadata": {},
   "source": [
    "Decomposição Espectral\n",
    "$$A = \\Gamma\\Lambda\\Gamma^T$$\n",
    "\n",
    "$\\Gamma$: Matriz de autovetores  \n",
    "$\\Lambda$: Matriz diagonal de autovalores"
   ]
  },
  {
   "cell_type": "code",
   "execution_count": 26,
   "metadata": {},
   "outputs": [],
   "source": [
    "autovals, autovecs = np.linalg.eig(A)\n",
    "\n",
    "Lambda = np.diag(autovals) # matriz diagonal de autovalores\n",
    "Gamma = autovecs # matriz de autovetores"
   ]
  },
  {
   "cell_type": "code",
   "execution_count": 28,
   "metadata": {},
   "outputs": [
    {
     "data": {
      "text/plain": [
       "array([[49350.,  8625.,  3045., 39125.,  5300.],\n",
       "       [ 8625.,  7182.,  2035., 12825.,  2024.],\n",
       "       [ 3045.,  2035.,  1252.,  7640.,   885.],\n",
       "       [39125., 12825.,  7640., 86675.,  7950.],\n",
       "       [ 5300.,  2024.,   885.,  7950.,  1634.]])"
      ]
     },
     "execution_count": 28,
     "metadata": {},
     "output_type": "execute_result"
    }
   ],
   "source": [
    "decomposicao = np.dot(np.dot(Gamma, Lambda), Gamma.T) # A = Gamma * Lambda * Gamma^T\n",
    "decomposicao"
   ]
  },
  {
   "cell_type": "code",
   "execution_count": 29,
   "metadata": {},
   "outputs": [
    {
     "data": {
      "text/plain": [
       "True"
      ]
     },
     "execution_count": 29,
     "metadata": {},
     "output_type": "execute_result"
    }
   ],
   "source": [
    "# comprovando que a decomposição é igual a matriz original\n",
    "np.allclose(A, decomposicao)"
   ]
  },
  {
   "cell_type": "code",
   "execution_count": 23,
   "metadata": {},
   "outputs": [
    {
     "data": {
      "text/plain": [
       "array([[ 2.70555556e+03, -1.63888889e+02, -6.16666667e+01,\n",
       "         5.41666667e+02,  3.33333333e+01],\n",
       "       [-1.63888889e+02,  3.44622222e+02,  6.45111111e+01,\n",
       "        -1.12444444e+02,  4.44444444e-01],\n",
       "       [-6.16666667e+01,  6.45111111e+01,  8.15111111e+01,\n",
       "         3.00888889e+02,  1.83333333e+01],\n",
       "       [ 5.41666667e+02, -1.12444444e+02,  3.00888889e+02,\n",
       "         4.41694444e+03,  1.22222222e+02],\n",
       "       [ 3.33333333e+01,  4.44444444e-01,  1.83333333e+01,\n",
       "         1.22222222e+02,  7.04444444e+01]])"
      ]
     },
     "execution_count": 23,
     "metadata": {},
     "output_type": "execute_result"
    }
   ],
   "source": [
    "S = np.cov(X.T)\n",
    "S"
   ]
  },
  {
   "cell_type": "code",
   "execution_count": 31,
   "metadata": {},
   "outputs": [],
   "source": [
    "autovals_S, autovecs_S = np.linalg.eig(S)\n",
    "\n",
    "Lambda_S = np.diag(autovals_S) # matriz diagonal de autovalores\n",
    "Gamma_S = autovecs_S # matriz de autovetores"
   ]
  },
  {
   "cell_type": "code",
   "execution_count": 32,
   "metadata": {},
   "outputs": [
    {
     "data": {
      "text/plain": [
       "array([[ 2.70555556e+03, -1.63888889e+02, -6.16666667e+01,\n",
       "         5.41666667e+02,  3.33333333e+01],\n",
       "       [-1.63888889e+02,  3.44622222e+02,  6.45111111e+01,\n",
       "        -1.12444444e+02,  4.44444444e-01],\n",
       "       [-6.16666667e+01,  6.45111111e+01,  8.15111111e+01,\n",
       "         3.00888889e+02,  1.83333333e+01],\n",
       "       [ 5.41666667e+02, -1.12444444e+02,  3.00888889e+02,\n",
       "         4.41694444e+03,  1.22222222e+02],\n",
       "       [ 3.33333333e+01,  4.44444444e-01,  1.83333333e+01,\n",
       "         1.22222222e+02,  7.04444444e+01]])"
      ]
     },
     "execution_count": 32,
     "metadata": {},
     "output_type": "execute_result"
    }
   ],
   "source": [
    "decomposicao_S = np.dot(np.dot(Gamma_S, Lambda_S), Gamma_S.T) # S = Gamma * Lambda * Gamma^T\n",
    "decomposicao_S"
   ]
  },
  {
   "cell_type": "code",
   "execution_count": 33,
   "metadata": {},
   "outputs": [
    {
     "data": {
      "text/plain": [
       "True"
      ]
     },
     "execution_count": 33,
     "metadata": {},
     "output_type": "execute_result"
    }
   ],
   "source": [
    "# comprovando que a decomposição é igual a matriz original\n",
    "np.allclose(S, decomposicao_S)"
   ]
  },
  {
   "cell_type": "markdown",
   "metadata": {},
   "source": [
    "# Questão 2"
   ]
  },
  {
   "cell_type": "code",
   "execution_count": 39,
   "metadata": {},
   "outputs": [
    {
     "name": "stdout",
     "output_type": "stream",
     "text": [
      "[115056.09500004  24768.29407747   5193.5074843     368.83725172\n",
      "    706.26618647]\n"
     ]
    }
   ],
   "source": [
    "print(autovals)"
   ]
  },
  {
   "cell_type": "markdown",
   "metadata": {},
   "source": [
    "os dois maiores autovalores são: \n",
    "- $\\lambda_1 = 115056.09$  \n",
    "- $\\lambda_2 = 24768.29$\n",
    "\n",
    "ou seja, serão os dois primeiros fatores"
   ]
  },
  {
   "cell_type": "code",
   "execution_count": 62,
   "metadata": {},
   "outputs": [
    {
     "name": "stdout",
     "output_type": "stream",
     "text": [
      "[[-126.53337785  -12.75488628]\n",
      " [ -62.32276665   36.65403958]\n",
      " [-120.6133389    12.28578212]\n",
      " [  -1.82244183    0.62262027]\n",
      " [  -5.22744059   -0.70618658]\n",
      " [ -24.1053305   -30.3746639 ]\n",
      " [-193.8931581   -36.8531751 ]\n",
      " [-158.70778482   96.38169874]\n",
      " [-110.01801615  -18.13944316]\n",
      " [ -71.5213153  -105.88207386]]\n"
     ]
    }
   ],
   "source": [
    "F = np.linalg.norm(autovecs, axis=1) # norma dos autovetores\n",
    "\n",
    "C = autovecs[:, [0, 1]] #dois primeiros fatores\n",
    "Fat = np.dot(X, C) # fatores\n",
    "print(Fat) # vetores bidimensionais"
   ]
  },
  {
   "cell_type": "code",
   "execution_count": 77,
   "metadata": {},
   "outputs": [
    {
     "name": "stdout",
     "output_type": "stream",
     "text": [
      "Vetor 1: [-126.53337785  -12.75488628] - Ângulo: -174.24°\n",
      "Vetor 2: [-5.22744059 -0.70618658] - Ângulo: -172.31°\n",
      "Vetor 3: [-110.01801615  -18.13944316] - Ângulo: -170.64°\n",
      "Vetor 4: [-193.8931581  -36.8531751] - Ângulo: -169.24°\n",
      "Vetor 5: [-24.1053305 -30.3746639] - Ângulo: -128.44°\n",
      "Vetor 6: [ -71.5213153  -105.88207386] - Ângulo: -124.04°\n",
      "Vetor 7: [-158.70778482   96.38169874] - Ângulo: 148.73°\n",
      "Vetor 8: [-62.32276665  36.65403958] - Ângulo: 149.54°\n",
      "Vetor 9: [-1.82244183  0.62262027] - Ângulo: 161.14°\n",
      "Vetor 10: [-120.6133389    12.28578212] - Ângulo: 174.18°\n"
     ]
    }
   ],
   "source": [
    "# ordene os ângulos dos vetores o1, ..., o10 com relação ao eixo-x\n",
    "\n",
    "angulos_radianos = np.arctan2(Fat[:, 1], Fat[:, 0]) # angulos em radianos\n",
    "angulos_graus = np.degrees(angulos_radianos) # angulos em graus\n",
    "\n",
    "indices = np.argsort(angulos_graus) # ordenando os angulos\n",
    "vetores_ordenados = Fat[indices] # ordenando os vetores\n",
    "angulos_ordenados = angulos_graus[indices] # ordenando os angulos\n",
    "\n",
    "for i, (vetor, angulo) in enumerate(zip(vetores_ordenados, angulos_ordenados)):\n",
    "    print(f'Vetor {i+1}: {vetor} - Ângulo: {angulo:.2f}°')"
   ]
  },
  {
   "cell_type": "code",
   "execution_count": 80,
   "metadata": {},
   "outputs": [
    {
     "name": "stdout",
     "output_type": "stream",
     "text": [
      "Clientes com menor ângulo: (1, 7) - Ângulo: 0.81°\n",
      "Clientes com maior ângulo: (7, 9) - Ângulo: 87.23°\n"
     ]
    }
   ],
   "source": [
    "def calcular_angulo(v1, v2):\n",
    "    produto_escalar = np.dot(v1, v2)\n",
    "    normas = np.linalg.norm(v1) * np.linalg.norm(v2)\n",
    "    cos_theta = produto_escalar / normas\n",
    "    # Garantir que o valor esteja no intervalo válido para arccos\n",
    "    cos_theta = np.clip(cos_theta, -1, 1)\n",
    "    angulo = np.arccos(cos_theta)\n",
    "    return np.degrees(angulo)  # Convertendo para graus para facilitar a interpretação\n",
    "\n",
    "# quais os dois clientes que possuem o menor e o maior ângulo entre eles no conjunto {o1, ..., o10}?\n",
    "\n",
    "menor_angulo = np.inf\n",
    "maior_angulo = -np.inf\n",
    "clientes = None\n",
    "\n",
    "for i in range(10):\n",
    "    for j in range(i+1, 10):\n",
    "        angulo = calcular_angulo(Fat[i], Fat[j])\n",
    "        if angulo < menor_angulo:\n",
    "            menor_angulo = angulo\n",
    "            clientes_menor_angulo = (i, j)\n",
    "        if angulo > maior_angulo:\n",
    "            maior_angulo = angulo\n",
    "            clientes_maior_angulo = (i, j)\n",
    "\n",
    "print(f'Clientes com menor ângulo: {clientes_menor_angulo} - Ângulo: {menor_angulo:.2f}°')\n",
    "print(f'Clientes com maior ângulo: {clientes_maior_angulo} - Ângulo: {maior_angulo:.2f}°')"
   ]
  },
  {
   "cell_type": "code",
   "execution_count": 81,
   "metadata": {},
   "outputs": [
    {
     "name": "stdout",
     "output_type": "stream",
     "text": [
      "Vetores dos clientes com menor ângulo: [[  0  22   0  70  11]\n",
      " [  0  40  27 180  15]]\n",
      "Ângulo entre os clientes com menor ângulo: 10.37°\n",
      "Vetores dos clientes com maior ângulo: [[  0  40  27 180  15]\n",
      " [125  32   7   0  10]]\n",
      "Ângulo entre os clientes com maior ângulo: 86.17°\n"
     ]
    }
   ],
   "source": [
    "# olhando para a matriz original X, calcule os angulos no R5 para os clientes do item anterior. \n",
    "# Teve semelhanças? Qual a interpretação do ângulo entre dois clientes?\n",
    "\n",
    "clientes_menor_angulo = np.array(clientes_menor_angulo)\n",
    "clientes_maior_angulo = np.array(clientes_maior_angulo)\n",
    "\n",
    "vetores_menor_angulo = X[clientes_menor_angulo]\n",
    "vetores_maior_angulo = X[clientes_maior_angulo]\n",
    "\n",
    "angulo_menor = calcular_angulo(vetores_menor_angulo[0], vetores_menor_angulo[1])\n",
    "angulo_maior = calcular_angulo(vetores_maior_angulo[0], vetores_maior_angulo[1])\n",
    "\n",
    "print(f'Vetores dos clientes com menor ângulo: {vetores_menor_angulo}')\n",
    "print(f'Ângulo entre os clientes com menor ângulo: {angulo_menor:.2f}°')\n",
    "\n",
    "print(f'Vetores dos clientes com maior ângulo: {vetores_maior_angulo}')\n",
    "print(f'Ângulo entre os clientes com maior ângulo: {angulo_maior:.2f}°')"
   ]
  },
  {
   "cell_type": "markdown",
   "metadata": {},
   "source": [
    "O ângulo entre dois vetores (clientes) pode ser interpretado como uma medida de sua similaridade. Um ângulo pequeno (próximo de 0) indica que os vetores são similares ou têm a mesma direção, sugerindo que os clientes têm características semelhantes. Um ângulo de 90 graus indica que os vetores são ortogonais (independentes), sugerindo que os clientes não compartilham características semelhantes. Um ângulo próximo de 180 graus indica que os vetores são opostos, sugerindo diferenças máximas entre as características dos clientes."
   ]
  },
  {
   "cell_type": "markdown",
   "metadata": {},
   "source": [
    "# Questão 3"
   ]
  },
  {
   "cell_type": "code",
   "execution_count": 49,
   "metadata": {},
   "outputs": [
    {
     "name": "stdout",
     "output_type": "stream",
     "text": [
      "Dois primeiros fatores (componentes principais) para os 10 clientes:\n",
      " [[ 32.04635237  14.7813696 ]\n",
      " [-12.81253819 -48.00239105]\n",
      " [ 41.38494652  -5.20414137]\n",
      " [-78.40890902 -28.22880902]\n",
      " [-79.77600089 -28.99874589]\n",
      " [-71.18630027   3.67758625]\n",
      " [ 97.74626304  61.76671876]\n",
      " [ 93.6973055  -80.79379681]\n",
      " [ 22.70205116  21.04536286]\n",
      " [-45.39317021  89.95684668]]\n"
     ]
    }
   ],
   "source": [
    "X_centralizado = X - np.mean(X, axis=0)\n",
    "\n",
    "pca = PCA(n_components=2)\n",
    "X_pca = pca.fit_transform(X_centralizado)\n",
    "\n",
    "print(\"Dois primeiros fatores (componentes principais) para os 10 clientes:\\n\", X_pca)"
   ]
  },
  {
   "cell_type": "code",
   "execution_count": 83,
   "metadata": {},
   "outputs": [
    {
     "name": "stdout",
     "output_type": "stream",
     "text": [
      "Vetor 1: [-78.40890902 -28.22880902] - Ângulo: -160.20°\n",
      "Vetor 2: [-79.77600089 -28.99874589] - Ângulo: -160.02°\n",
      "Vetor 3: [-12.81253819 -48.00239105] - Ângulo: -104.94°\n",
      "Vetor 4: [ 93.6973055  -80.79379681] - Ângulo: -40.77°\n",
      "Vetor 5: [41.38494652 -5.20414137] - Ângulo: -7.17°\n",
      "Vetor 6: [32.04635237 14.7813696 ] - Ângulo: 24.76°\n",
      "Vetor 7: [97.74626304 61.76671876] - Ângulo: 32.29°\n",
      "Vetor 8: [22.70205116 21.04536286] - Ângulo: 42.83°\n",
      "Vetor 9: [-45.39317021  89.95684668] - Ângulo: 116.78°\n",
      "Vetor 10: [-71.18630027   3.67758625] - Ângulo: 177.04°\n",
      "Clientes com menor ângulo: [1 7] - Ângulo: 0.81°\n",
      "Clientes com maior ângulo: [7 9] - Ângulo: 87.23°\n"
     ]
    }
   ],
   "source": [
    "# ordenar em ordem crescente os ângulos entre os vetores p_1, ..., p_10 e o eixo-x.\n",
    "angulos_radianos_pca = np.arctan2(X_pca[:, 1], X_pca[:, 0]) # angulos em radianos\n",
    "angulos_graus_pca = np.degrees(angulos_radianos_pca) # angulos em graus\n",
    "\n",
    "indices_pca = np.argsort(angulos_graus_pca) # ordenando os angulos\n",
    "vetores_ordenados_pca = X_pca[indices_pca] # ordenando os vetores\n",
    "angulos_ordenados_pca = angulos_graus_pca[indices_pca] # ordenando os angulos\n",
    "\n",
    "for i, (vetor, angulo) in enumerate(zip(vetores_ordenados_pca, angulos_ordenados_pca)):\n",
    "    print(f'Vetor {i+1}: {vetor} - Ângulo: {angulo:.2f}°')\n",
    "\n",
    "# quais os dois clientes que possuem o menor e o maior ângulo entre eles no conjunto {p_1, ..., p_10}?\n",
    "\n",
    "menor_angulo_pca = np.inf\n",
    "maior_angulo_pca = -np.inf\n",
    "clientes_pca = None\n",
    "\n",
    "for i in range(10):\n",
    "    for j in range(i+1, 10):\n",
    "        angulo = calcular_angulo(X_pca[i], X_pca[j])\n",
    "        if angulo < menor_angulo_pca:\n",
    "            menor_angulo_pca = angulo\n",
    "            clientes_menor_angulo_pca = (i, j)\n",
    "        if angulo > maior_angulo_pca:\n",
    "            maior_angulo_pca = angulo\n",
    "            clientes_maior_angulo_pca = (i, j)\n",
    "\n",
    "print(f'Clientes com menor ângulo: {clientes_menor_angulo} - Ângulo: {menor_angulo:.2f}°')\n",
    "print(f'Clientes com maior ângulo: {clientes_maior_angulo} - Ângulo: {maior_angulo:.2f}°')"
   ]
  },
  {
   "cell_type": "code",
   "execution_count": 84,
   "metadata": {},
   "outputs": [
    {
     "name": "stdout",
     "output_type": "stream",
     "text": [
      "Vetores dos clientes com menor ângulo: [[-78.40890902 -28.22880902]\n",
      " [-79.77600089 -28.99874589]]\n",
      "Ângulo entre os clientes com menor ângulo: 0.18°\n"
     ]
    }
   ],
   "source": [
    "\n",
    "# por fim, calcule o angulo entre os vetores dos clientes dos clientes no R5 que tiveram o menor e o maior angulo no R2\n",
    "# (espaço dos dois primeiros fatores). Teve semelhanças?\n",
    "\n",
    "clientes_menor_angulo_pca = np.array(clientes_menor_angulo_pca)\n",
    "clientes_maior_angulo_pca = np.array(clientes_maior_angulo_pca)\n",
    "\n",
    "vetores_menor_angulo_pca = X_pca[clientes_menor_angulo_pca]\n",
    "vetores_maior_angulo_pca = X_pca[clientes_maior_angulo_pca]\n",
    "\n",
    "angulo_menor_pca = calcular_angulo(vetores_menor_angulo_pca[0], vetores_menor_angulo_pca[1])\n",
    "angulo_maior_pca = calcular_angulo(vetores_maior_angulo_pca[0], vetores_maior_angulo_pca[1])\n",
    "\n",
    "print(f'Vetores dos clientes com menor ângulo: {vetores_menor_angulo_pca}')\n",
    "print(f'Ângulo entre os clientes com menor ângulo: {angulo_menor_pca:.2f}°')"
   ]
  }
 ],
 "metadata": {
  "kernelspec": {
   "display_name": "Python 3",
   "language": "python",
   "name": "python3"
  },
  "language_info": {
   "codemirror_mode": {
    "name": "ipython",
    "version": 3
   },
   "file_extension": ".py",
   "mimetype": "text/x-python",
   "name": "python",
   "nbconvert_exporter": "python",
   "pygments_lexer": "ipython3",
   "version": "3.10.12"
  }
 },
 "nbformat": 4,
 "nbformat_minor": 2
}

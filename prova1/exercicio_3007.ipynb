{
 "cells": [
  {
   "cell_type": "markdown",
   "metadata": {},
   "source": [
    "## Exercício 1"
   ]
  },
  {
   "cell_type": "code",
   "execution_count": 2,
   "metadata": {},
   "outputs": [],
   "source": [
    "import numpy as np"
   ]
  },
  {
   "cell_type": "code",
   "execution_count": 3,
   "metadata": {},
   "outputs": [],
   "source": [
    "X = np.mat([[1, 2, -1, 3], [2, 4, 1, 1], [1,3, -2, 0],\n",
    "              [1,4,-1,7], [1,-1,3,3],[1,3,2,1]])"
   ]
  },
  {
   "cell_type": "markdown",
   "metadata": {},
   "source": [
    "Usando a técnica de Componentes Principais  \n",
    "calcular os 2 primeiros fatores para os dados:\n",
    "\n",
    "**1° passo**: Calcular $S$, matriz que estima $\\sum = var(x)$,  \n",
    "matriz de covariância amostral."
   ]
  },
  {
   "cell_type": "code",
   "execution_count": 4,
   "metadata": {},
   "outputs": [
    {
     "data": {
      "text/plain": [
       "array([[ 0.16666667,  0.3       ,  0.13333333, -0.3       ],\n",
       "       [ 0.3       ,  3.5       , -2.        ,  0.1       ],\n",
       "       [ 0.13333333, -2.        ,  3.86666667, -0.6       ],\n",
       "       [-0.3       ,  0.1       , -0.6       ,  6.3       ]])"
      ]
     },
     "execution_count": 4,
     "metadata": {},
     "output_type": "execute_result"
    }
   ],
   "source": [
    "S = np.cov(X.T)\n",
    "S"
   ]
  },
  {
   "cell_type": "markdown",
   "metadata": {},
   "source": [
    "$$S:= \\text{Matriz de covariância amostral}$$"
   ]
  },
  {
   "cell_type": "markdown",
   "metadata": {},
   "source": [
    "**2° passo**: Calcular os 2 maiores autovalores de S e seus respectivos autovetores"
   ]
  },
  {
   "cell_type": "code",
   "execution_count": 9,
   "metadata": {},
   "outputs": [],
   "source": [
    "def two_largest_indices(arr):\n",
    "    largest = arr.argmax()\n",
    "    arr[largest] = 0\n",
    "    second_largest = arr.argmax()\n",
    "    return largest, second_largest"
   ]
  },
  {
   "cell_type": "code",
   "execution_count": 23,
   "metadata": {},
   "outputs": [],
   "source": [
    "L = np.linalg.eig(S).eigenvalues\n",
    "V = np.linalg.eig(S).eigenvectors\n",
    "autovetores = V.T"
   ]
  },
  {
   "cell_type": "code",
   "execution_count": 24,
   "metadata": {},
   "outputs": [
    {
     "name": "stdout",
     "output_type": "stream",
     "text": [
      "The two largest eigenvalues are:  3 2\n",
      "The two largest eigenvalues are:  6.61525022752402 5.420330323583458\n"
     ]
    }
   ],
   "source": [
    "ind1, ind2 = two_largest_indices(np.linalg.eig(S).eigenvalues)\n",
    "vec1, vec2 = np.linalg.eig(S).eigenvectors[:, ind1], np.linalg.eig(S).eigenvectors[:, ind2]\n",
    "\n",
    "print(\"The two largest eigenvalues are: \", ind1, ind2)\n",
    "print(\"The two largest eigenvalues are: \", L[ind1], L[ind2])\n"
   ]
  },
  {
   "cell_type": "code",
   "execution_count": 27,
   "metadata": {},
   "outputs": [
    {
     "data": {
      "text/plain": [
       "matrix([[-0.90566764,  1.18783026, -0.4871275 ,  3.53999042],\n",
       "        [-1.28832516,  3.97114018, -1.50225886,  1.52101358],\n",
       "        [-0.74478331,  0.97726029, -3.15650995,  1.58956128],\n",
       "        [-0.76033767,  2.95045907,  0.16566279,  7.5953429 ],\n",
       "        [-0.92517228,  1.73530312,  3.8560618 ,  1.12408485],\n",
       "        [-0.34937593,  3.74863299, -0.21296937,  0.88336357]])"
      ]
     },
     "execution_count": 27,
     "metadata": {},
     "output_type": "execute_result"
    }
   ],
   "source": [
    "O = X * V #corresponde aos fatores\n",
    "O"
   ]
  },
  {
   "cell_type": "code",
   "execution_count": null,
   "metadata": {},
   "outputs": [],
   "source": []
  }
 ],
 "metadata": {
  "kernelspec": {
   "display_name": "Python 3",
   "language": "python",
   "name": "python3"
  },
  "language_info": {
   "codemirror_mode": {
    "name": "ipython",
    "version": 3
   },
   "file_extension": ".py",
   "mimetype": "text/x-python",
   "name": "python",
   "nbconvert_exporter": "python",
   "pygments_lexer": "ipython3",
   "version": "3.10.12"
  }
 },
 "nbformat": 4,
 "nbformat_minor": 2
}

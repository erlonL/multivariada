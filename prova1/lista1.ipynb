{
 "cells": [
  {
   "cell_type": "code",
   "execution_count": 1,
   "metadata": {},
   "outputs": [],
   "source": [
    "import numpy as np"
   ]
  },
  {
   "cell_type": "code",
   "execution_count": 18,
   "metadata": {},
   "outputs": [],
   "source": [
    "M = np.array([[1, 2, 3],\n",
    "              [3, 4, 7]])\n",
    "\n",
    "# Calculando Z = MM^t e W = M^tM\n",
    "Z = np.dot(M, M.T)\n",
    "W = np.dot(M.T, M)"
   ]
  },
  {
   "cell_type": "code",
   "execution_count": 19,
   "metadata": {},
   "outputs": [],
   "source": [
    "autovalores_Z, autovetores_Z = np.linalg.eig(Z)\n",
    "autovalores_W, autovetores_W = np.linalg.eig(W)"
   ]
  },
  {
   "cell_type": "code",
   "execution_count": 20,
   "metadata": {},
   "outputs": [],
   "source": [
    "# Ordenando os autovalores em ordem decrescente e obtendo os índices\n",
    "indices_Z = np.argsort(autovalores_Z)[::-1]\n",
    "indices_W = np.argsort(autovalores_W)[::-1]\n",
    "\n",
    "# Calculando τ2 para Z (ou W, já que os autovalores significativos são os mesmos)\n",
    "tau2_Z = autovalores_Z[indices_Z[0]] / (autovalores_Z[indices_Z[0]] + autovalores_Z[indices_Z[1]])"
   ]
  },
  {
   "cell_type": "code",
   "execution_count": 22,
   "metadata": {},
   "outputs": [],
   "source": [
    "# Direção da primeira componente principal (autovetor associado ao maior autovalor)\n",
    "direcao_primeira_componente_Z = autovetores_Z[:, indices_Z[0]]\n",
    "direcao_primeira_componente_W = autovetores_W[:, indices_W[0]]"
   ]
  },
  {
   "cell_type": "code",
   "execution_count": 23,
   "metadata": {},
   "outputs": [
    {
     "name": "stdout",
     "output_type": "stream",
     "text": [
      "Tau2 (Z): 0.9984480045332117\n",
      "Direção da primeira componente principal (Z): [-0.39752916 -0.91758954]\n",
      "Direção da primeira componente principal (W): [-0.33608377 -0.47638481 -0.81246859]\n"
     ]
    }
   ],
   "source": [
    "print(\"Tau2 (Z):\", tau2_Z)\n",
    "print(\"Direção da primeira componente principal (Z):\", direcao_primeira_componente_Z)\n",
    "print(\"Direção da primeira componente principal (W):\", direcao_primeira_componente_W)"
   ]
  },
  {
   "cell_type": "code",
   "execution_count": null,
   "metadata": {},
   "outputs": [],
   "source": []
  }
 ],
 "metadata": {
  "kernelspec": {
   "display_name": "Python 3",
   "language": "python",
   "name": "python3"
  },
  "language_info": {
   "codemirror_mode": {
    "name": "ipython",
    "version": 3
   },
   "file_extension": ".py",
   "mimetype": "text/x-python",
   "name": "python",
   "nbconvert_exporter": "python",
   "pygments_lexer": "ipython3",
   "version": "3.10.12"
  }
 },
 "nbformat": 4,
 "nbformat_minor": 2
}

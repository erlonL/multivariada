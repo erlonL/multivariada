{
  "nbformat": 4,
  "nbformat_minor": 0,
  "metadata": {
    "colab": {
      "provenance": []
    },
    "kernelspec": {
      "name": "python3",
      "display_name": "Python 3"
    },
    "language_info": {
      "name": "python"
    }
  },
  "cells": [
    {
      "cell_type": "markdown",
      "source": [
        "Informações sobre a prova\n",
        "\n",
        "-> Q1 - Algebra Matricial\n",
        "\n",
        "-> Q2 - Análise Fatorial Geometrica\n",
        "\n",
        "-> Q3 - Análise de Componentes Principais\n",
        "\n",
        "\n"
      ],
      "metadata": {
        "id": "I01Ml0DKDIxW"
      }
    },
    {
      "cell_type": "markdown",
      "source": [
        "# Multivariada\n",
        "\n",
        "Profº Sergio\n",
        "\n",
        "Aluna: Kamily Assis de Oliveira"
      ],
      "metadata": {
        "id": "0-zJkzH_CR-_"
      }
    },
    {
      "cell_type": "code",
      "source": [
        "#@ title Bibliotecas\n",
        "\n",
        "import numpy as np\n",
        "import pandas as pd\n",
        "import matplotlib.pyplot as plt\n",
        "import networkx as nx\n",
        "import seaborn as sns\n",
        "from sklearn.decomposition import PCA"
      ],
      "metadata": {
        "id": "X6cKNVCMCqc8"
      },
      "execution_count": 96,
      "outputs": []
    },
    {
      "cell_type": "code",
      "source": [
        "# @title Funções\n",
        "\n",
        "def transposta(matriz):\n",
        "    return np.transpose(matriz)\n",
        "\n",
        "def autovalor_autovetor(matriz):\n",
        "    autovalores, autovetores = np.linalg.eig(matriz)\n",
        "    return autovalores, autovetores\n",
        "\n",
        "def matriz_covariancia(matriz):\n",
        "    return np.cov(matriz.T)\n",
        "\n",
        "def maiores_autovalores(matriz):\n",
        "    autovalores, _ = np.linalg.eig(matriz)\n",
        "    autovalores_ordenados = np.sort(autovalores)[::-1]\n",
        "    return autovalores_ordenados[:2]\n",
        "\n",
        "def distancia(ponto1, ponto2):\n",
        "    return np.linalg.norm(ponto1 - ponto2)\n",
        "\n",
        "def matriz_inversa(matriz):\n",
        "  try:\n",
        "      matriz_inversa = np.linalg.inv(matriz)\n",
        "      print(\"Matriz Inversa:\")\n",
        "      print(matriz_inversa)\n",
        "      return matriz_inversa\n",
        "\n",
        "  except np.linalg.LinAlgError:\n",
        "      print(\"A matriz não é invertível (determinante é zero).\")\n",
        "      return None"
      ],
      "metadata": {
        "id": "xSDIRHsCVUpy"
      },
      "execution_count": 127,
      "outputs": []
    },
    {
      "cell_type": "markdown",
      "source": [
        "Lista 1"
      ],
      "metadata": {
        "id": "NE8LBBcVCPXc"
      }
    },
    {
      "cell_type": "code",
      "execution_count": 98,
      "metadata": {
        "id": "Rc9C1tXrCBdE",
        "colab": {
          "base_uri": "https://localhost:8080/"
        },
        "outputId": "5da321ae-3308-41a6-bad3-9e11cfbd9814"
      },
      "outputs": [
        {
          "output_type": "stream",
          "name": "stdout",
          "text": [
            "Matriz A: \n",
            "[[ 9 19  3 16]\n",
            " [19 55 -5 38]\n",
            " [ 3 -5 20  2]\n",
            " [16 38  2 69]]\n",
            "\n",
            "Matriz C: \n",
            "[[15 12  9 31  5  8]\n",
            " [12 22 12 24  4 17]\n",
            " [ 9 12 14 15 -8  6]\n",
            " [31 24 15 67 15 18]\n",
            " [ 5  4 -8 15 20  7]\n",
            " [ 8 17  6 18  7 15]]\n"
          ]
        }
      ],
      "source": [
        "#matriz da questão\n",
        "\n",
        "x = np.array([\n",
        "    [1, 2, -1, 3],\n",
        "    [2, 4, 1, 1],\n",
        "    [1, 3, -2, 0],\n",
        "    [1, 4, -1, 7],\n",
        "    [1, -1, 3, 3],\n",
        "    [1, 3, 2, 1]\n",
        "])\n",
        "\n",
        "#transposta (X^t)\n",
        "x_t = np.transpose(x)\n",
        "\n",
        "#A = X_T * X (devido as dimensões diferentes, estou usando np) / Tbm poderia ser X_t @ X\n",
        "A = np.dot(x_t, x)\n",
        "\n",
        "C = np.dot(x, x_t)\n",
        "\n",
        "print(\"Matriz A: \")\n",
        "print(A)\n",
        "print('')\n",
        "print(\"Matriz C: \")\n",
        "print(C)"
      ]
    },
    {
      "cell_type": "code",
      "source": [
        "#autovalores e autovetores (A)\n",
        "autovalores, autovetores = np.linalg.eig(A)\n",
        "\n",
        "#arredondando\n",
        "autovalores_ards = np.round(autovalores, 3)\n",
        "autovetores_ards = np.round(autovetores, 3)\n",
        "\n",
        "autovalores_ards, autovetores_ards"
      ],
      "metadata": {
        "id": "5Sd_8A9TC_v0",
        "colab": {
          "base_uri": "https://localhost:8080/"
        },
        "outputId": "c644b567-7e08-425f-ab31-734795b110d0"
      },
      "execution_count": 99,
      "outputs": [
        {
          "output_type": "execute_result",
          "data": {
            "text/plain": [
              "(array([106.78 ,   1.047,  18.025,  27.148]),\n",
              " array([[ 0.243,  0.918, -0.309, -0.062],\n",
              "        [ 0.631, -0.325, -0.346, -0.614],\n",
              "        [-0.011, -0.228, -0.797,  0.559],\n",
              "        [ 0.737, -0.028,  0.386,  0.554]]))"
            ]
          },
          "metadata": {},
          "execution_count": 99
        }
      ]
    },
    {
      "cell_type": "code",
      "source": [
        "#autovalores e autovetores (C)\n",
        "autovalores_c, autovetores_c = np.linalg.eig(C)\n",
        "\n",
        "#arredondando\n",
        "autovalores_ards_c = np.round(autovalores_c, 3)\n",
        "autovetores_ards_c = np.round(autovetores_c, 3)\n",
        "\n",
        "autovalores_ards_c, autovetores_ards_c"
      ],
      "metadata": {
        "colab": {
          "base_uri": "https://localhost:8080/"
        },
        "id": "nEQJ8ggNKEFP",
        "outputId": "d2e91306-1911-407f-8eeb-2863556d4a76"
      },
      "execution_count": 100,
      "outputs": [
        {
          "output_type": "execute_result",
          "data": {
            "text/plain": [
              "(array([106.78 ,  27.148,  18.025,   1.047,   0.   ,  -0.   ]),\n",
              " array([[-0.361, -0.036,  0.225, -0.403,  0.671, -0.311],\n",
              "        [-0.361, -0.281, -0.568, -0.274, -0.466, -0.502],\n",
              "        [-0.209, -0.58 ,  0.058, -0.39 ,  0.061,  0.677],\n",
              "        [-0.768,  0.154,  0.426,  0.34 , -0.289,  0.021],\n",
              "        [-0.173,  0.747, -0.282, -0.464, -0.007,  0.334],\n",
              "        [-0.276, -0.045, -0.602,  0.528,  0.496,  0.282]]))"
            ]
          },
          "metadata": {},
          "execution_count": 100
        }
      ]
    },
    {
      "cell_type": "code",
      "source": [
        "# @title valores maximos de x_t*A*x e x_t*C*x, para x*x_t = 1\n",
        "#valores maximos de A e C (?) - Isso dependeria do fato da multiplicação das matrizes ser cumultativas\n",
        "\n",
        "maiores_autovalores_A = maiores_autovalores(A)\n",
        "maiores_autovalores_C = maiores_autovalores(C)\n",
        "\n",
        "\n",
        "maiores_autovalores_A = np.round(maiores_autovalores_A, 3)\n",
        "maiores_autovalores_C = np.round(maiores_autovalores_C, 3)\n",
        "\n",
        "\n",
        "print(f\"Maior autovalor de A: {maiores_autovalores_A}\")\n",
        "print(f\"Maior autovalor de C: {maiores_autovalores_C}\")"
      ],
      "metadata": {
        "colab": {
          "base_uri": "https://localhost:8080/"
        },
        "id": "pDxSKuZFX03_",
        "outputId": "27b3942e-f633-419b-bf5e-e4d4015e4ed9"
      },
      "execution_count": 101,
      "outputs": [
        {
          "output_type": "stream",
          "name": "stdout",
          "text": [
            "Maior autovalor de A: [106.78   27.148]\n",
            "Maior autovalor de C: [106.78   27.148]\n"
          ]
        }
      ]
    },
    {
      "cell_type": "code",
      "source": [
        "# @title Observações\n",
        "#calcule os 2 primeiros fatores para cada uma das seis observações.\n",
        "\n",
        "pca = PCA(n_components=2)\n",
        "\n",
        "dados_pca = pca.fit_transform(x)\n",
        "\n",
        "\n",
        "for i, fator in enumerate(dados_pca):\n",
        "    print(f\"Observação {i+1}: {fator}\")\n",
        "\n",
        "print('')\n",
        "print(\"Dois componentes principais (autovetores):\")\n",
        "print(pca.components_)\n",
        "\n",
        "print('')\n",
        "print(\"Variância explicada por cada um dos dois componente principal:\")\n",
        "print(pca.explained_variance_ratio_)"
      ],
      "metadata": {
        "colab": {
          "base_uri": "https://localhost:8080/"
        },
        "id": "xsrpzQukhXvJ",
        "outputId": "0c8df4a5-3c16-4faf-e9a4-d133e02e825c"
      },
      "execution_count": 102,
      "outputs": [
        {
          "output_type": "stream",
          "name": "stdout",
          "text": [
            "Observação 1: [ 0.83109766 -0.26427065]\n",
            "Observação 2: [-1.18787919 -1.27940201]\n",
            "Observação 3: [-1.11933149 -2.93365311]\n",
            "Observação 4: [4.88645013 0.38851964]\n",
            "Observação 5: [-1.58480792  4.07891865]\n",
            "Observação 6: [-1.8255292   0.00988748]\n",
            "\n",
            "Dois componentes principais (autovetores):\n",
            "[[-0.03591336  0.2783479  -0.39521547  0.87466417]\n",
            " [-0.04720753 -0.62513852  0.61694344  0.47576683]]\n",
            "\n",
            "Variância explicada por cada um dos dois componente principal:\n",
            "[0.47821086 0.39183111]\n"
          ]
        }
      ]
    },
    {
      "cell_type": "code",
      "source": [
        "# @title Construção do Grafo\n",
        "\n",
        "#numero de observações = 6\n",
        "#se precisar verificar:\n",
        "num_obser = dados_pca.shape[0]\n",
        "\n",
        "#grafo vazio\n",
        "G = nx.Graph()\n",
        "\n",
        "#adicionando os vertices\n",
        "for i in range(num_obser):\n",
        "  G.add_node(i, pos=dados_pca[i])\n",
        "\n",
        "#adicionando arestas\n",
        "for i in range(num_obser):\n",
        "\n",
        "  distancias = []\n",
        "\n",
        "  for j in range(num_obser):\n",
        "    if i != j:\n",
        "      distancias.append((j, distancia(dados_pca[i], dados_pca[j])))\n",
        "\n",
        "  #ordenando as distancias e pegar o ponto + prox\n",
        "  distancias = sorted(distancias, key=lambda x: x[1])\n",
        "  ponto_mais_proximo = distancias[0][0]\n",
        "\n",
        "  #verificando se o ponto mais próximo também considera o ponto atual como o mais próximo\n",
        "  distancias_mais_proximos = sorted(\n",
        "    [(k, distancia(dados_pca[ponto_mais_proximo], dados_pca[k])) for k in range(num_obser) if k != ponto_mais_proximo],\n",
        "    key=lambda x: x[1])\n",
        "\n",
        "  if distancias_mais_proximos[0][0] == i:\n",
        "    G.add_edge(i, ponto_mais_proximo)\n",
        "\n",
        "#posições dos vertices (visualização)\n",
        "pos = nx.get_node_attributes(G, 'pos')\n",
        "\n",
        "#grafo\n",
        "plt.figure(figsize=(8, 6))\n",
        "\n",
        "nx.draw(G, pos, with_labels=True, node_color='lightblue',\n",
        "        node_size=500, edge_color='gray', font_size=16, font_weight='bold', alpha=0.7)\n",
        "\n",
        "\n",
        "plt.title('Grafo dos Pontos mais Próximos')\n",
        "plt.show()"
      ],
      "metadata": {
        "colab": {
          "base_uri": "https://localhost:8080/",
          "height": 659
        },
        "id": "t6dfdzTjim-E",
        "outputId": "4525855f-6ef9-4a44-d98b-60bf2e24f800"
      },
      "execution_count": 117,
      "outputs": [
        {
          "output_type": "display_data",
          "data": {
            "text/plain": [
              "<Figure size 800x600 with 1 Axes>"
            ],
            "image/png": "[encoded data removed]"
          },
          "metadata": {}
        }
      ]
    },
    {
      "cell_type": "code",
      "source": [
        "# @title Metrica da razão entre a soma dos 2 primeiros autovalores de A, e a soma de todos os seus autovalore\n",
        "\n",
        "#ordem decrescente\n",
        "autovalores_sorted = np.sort(autovalores_ards)[::-1]\n",
        "\n",
        "#soma dos 2 primeiros autovalores\n",
        "soma_dois_primeiros = np.sum(autovalores_sorted[:2])\n",
        "\n",
        "#soma de todos os autovalores\n",
        "soma_total = np.sum(autovalores_sorted)\n",
        "\n",
        "#razão\n",
        "razao = soma_dois_primeiros / soma_total\n",
        "\n",
        "print(f'Soma dos 2 primeiros autovalores: {soma_dois_primeiros}')\n",
        "print(f'Soma dos autovalores: {soma_total}')\n",
        "print(f'Razão (métrica): {razao}')"
      ],
      "metadata": {
        "colab": {
          "base_uri": "https://localhost:8080/"
        },
        "id": "KM9SpTcipdh2",
        "outputId": "919c6886-38f0-4475-db45-d16b9eaf1405"
      },
      "execution_count": 120,
      "outputs": [
        {
          "output_type": "stream",
          "name": "stdout",
          "text": [
            "Soma dos 2 primeiros autovalores: 133.928\n",
            "Soma dos autovalores: 153.0\n",
            "Razão (métrica): 0.8753464052287582\n"
          ]
        }
      ]
    },
    {
      "cell_type": "code",
      "source": [
        "# @title Matriz Inversa, se existir\n",
        "\n",
        "a_inversa = matriz_inversa(A)"
      ],
      "metadata": {
        "colab": {
          "base_uri": "https://localhost:8080/"
        },
        "id": "BfHJDDLxrIDl",
        "outputId": "35c01733-70a2-44d2-b663-8fbb1b3bb7fe"
      },
      "execution_count": 129,
      "outputs": [
        {
          "output_type": "stream",
          "name": "stdout",
          "text": [
            "Matriz Inversa:\n",
            "[[ 8.10057398e-01 -2.75783278e-01 -1.87401748e-01 -3.05268161e-02]\n",
            " [-2.75783278e-01  1.24940592e-01  7.33009176e-02 -6.98278068e-03]\n",
            " [-1.87401748e-01  7.33009176e-02  9.64062443e-02  2.92472489e-04]\n",
            " [-3.05268161e-02 -6.98278068e-03  2.92472489e-04  2.54085475e-02]]\n"
          ]
        }
      ]
    },
    {
      "cell_type": "code",
      "source": [
        "# @title Autovalores da Inversa\n",
        "\n",
        "autovalores_inversa, autovetores_inversa = autovalor_autovetor(a_inversa)\n",
        "\n",
        "print(f'Autovalores da Matriz Inversa: {autovalores_inversa}')"
      ],
      "metadata": {
        "colab": {
          "base_uri": "https://localhost:8080/"
        },
        "id": "3b0KF4FNrt10",
        "outputId": "6f92b5d6-4925-4e7c-c538-d757da0fb2db"
      },
      "execution_count": 131,
      "outputs": [
        {
          "output_type": "stream",
          "name": "stdout",
          "text": [
            "Autovalores da Matriz Inversa: [0.95513327 0.00936504 0.05547989 0.03683457]\n"
          ]
        }
      ]
    },
    {
      "cell_type": "markdown",
      "source": [
        "###Você acha que valeria a pena calcular um terceiro fator para o problema de achar os grafos acima, justifique sua resposta.\n",
        "\n",
        "Valeria para:\n",
        "\n",
        "- Complexidade de Redes (centralidade, densidade, diametro medio dos caminhos)\n",
        "\n",
        "- Peso de Arestas (para mais detalhes)\n",
        "\n",
        "- Análise de Componentes Conectaados (para o numero de componentes)\n",
        "\n",
        "- Avaliação de Redes (medição de resiliencia - resistencia à desconexão quanto a nós removidos)\n",
        "\n"
      ],
      "metadata": {
        "id": "nKPeotPlqkDT"
      }
    },
    {
      "cell_type": "markdown",
      "source": [
        "## Aula de Revisão"
      ],
      "metadata": {
        "id": "2JbS4kuDg5Cj"
      }
    },
    {
      "cell_type": "markdown",
      "source": [
        "Usandu a tecnica de componentes principais, calcular os 2 primeiros fatores para os dados:\n",
        "\n",
        "passo 1 - Calcular S, matriz que estima somatorio = VarX_t, matriz de covariancia amostral"
      ],
      "metadata": {
        "id": "ImH4haSmEaXl"
      }
    },
    {
      "cell_type": "code",
      "source": [
        "np.cov(x)"
      ],
      "metadata": {
        "colab": {
          "base_uri": "https://localhost:8080/"
        },
        "id": "2Rhjcq6UEnFR",
        "outputId": "f28b9504-667e-4f50-ef47-13c63a77685e"
      },
      "execution_count": 105,
      "outputs": [
        {
          "output_type": "execute_result",
          "data": {
            "text/plain": [
              "array([[ 2.91666667,  0.66666667,  2.16666667,  5.75      , -0.83333333,\n",
              "        -0.25      ],\n",
              "       [ 0.66666667,  2.        ,  2.66666667,  0.66666667, -2.66666667,\n",
              "         1.        ],\n",
              "       [ 2.16666667,  2.66666667,  4.33333333,  3.16666667, -3.66666667,\n",
              "         0.83333333],\n",
              "       [ 5.75      ,  0.66666667,  3.16666667, 12.25      , -0.5       ,\n",
              "        -0.41666667],\n",
              "       [-0.83333333, -2.66666667, -3.66666667, -0.5       ,  3.66666667,\n",
              "        -1.16666667],\n",
              "       [-0.25      ,  1.        ,  0.83333333, -0.41666667, -1.16666667,\n",
              "         0.91666667]])"
            ]
          },
          "metadata": {},
          "execution_count": 105
        }
      ]
    },
    {
      "cell_type": "code",
      "source": [
        "#matriz de covariancia amostral (S)\n",
        "\n",
        "S = np.cov(x_t)\n",
        "\n",
        "S"
      ],
      "metadata": {
        "colab": {
          "base_uri": "https://localhost:8080/"
        },
        "id": "Cb0YTzyPDKhf",
        "outputId": "45519fd6-542b-4333-83fc-ae75005f9bb1"
      },
      "execution_count": 106,
      "outputs": [
        {
          "output_type": "execute_result",
          "data": {
            "text/plain": [
              "array([[ 0.16666667,  0.3       ,  0.13333333, -0.3       ],\n",
              "       [ 0.3       ,  3.5       , -2.        ,  0.1       ],\n",
              "       [ 0.13333333, -2.        ,  3.86666667, -0.6       ],\n",
              "       [-0.3       ,  0.1       , -0.6       ,  6.3       ]])"
            ]
          },
          "metadata": {},
          "execution_count": 106
        }
      ]
    },
    {
      "cell_type": "markdown",
      "source": [
        "passo 2 - Calcular os 2 maiores autovalores de S e seus autovetores associados"
      ],
      "metadata": {
        "id": "JcSjzrmpGRut"
      }
    },
    {
      "cell_type": "code",
      "source": [
        "#autovetores (V)\n",
        "\n",
        "autovalores, autovetores = np.linalg.eig(S)\n",
        "\n",
        "autovalores, autovetores\n",
        "\n",
        "#pegar os dois maiores"
      ],
      "metadata": {
        "colab": {
          "base_uri": "https://localhost:8080/"
        },
        "id": "XtqFNhZXGRG1",
        "outputId": "2bef286b-fd4b-4103-afa9-cb6cbbc979f5"
      },
      "execution_count": 107,
      "outputs": [
        {
          "output_type": "execute_result",
          "data": {
            "text/plain": [
              "(array([0.09359057, 1.70416222, 5.42033032, 6.61525023]),\n",
              " array([[-0.98168333,  0.18105114, -0.04720753, -0.03591336],\n",
              "        [ 0.15143181,  0.71329706, -0.62513852,  0.2783479 ],\n",
              "        [ 0.1086977 ,  0.67184101,  0.61694344, -0.39521547],\n",
              "        [-0.03938341,  0.08400867,  0.47576683,  0.87466417]]))"
            ]
          },
          "metadata": {},
          "execution_count": 107
        }
      ]
    },
    {
      "cell_type": "code",
      "source": [
        "autovetores[2] #lambda 5.42"
      ],
      "metadata": {
        "colab": {
          "base_uri": "https://localhost:8080/"
        },
        "id": "1mYryfIgG3X7",
        "outputId": "284381c2-f107-4519-e760-9421cd947ac4"
      },
      "execution_count": 108,
      "outputs": [
        {
          "output_type": "execute_result",
          "data": {
            "text/plain": [
              "array([ 0.1086977 ,  0.67184101,  0.61694344, -0.39521547])"
            ]
          },
          "metadata": {},
          "execution_count": 108
        }
      ]
    },
    {
      "cell_type": "code",
      "source": [
        "x @ autovetores\n",
        "\n",
        "#0.88336357 é a primeira componente principal (para lambda = 5.42)\n",
        "#-0.21296937 é a segunda componente principal (para lambda = 5.42)\n",
        "\n",
        "\n",
        "#7.5953429 é a primeira componente principal (para lambda = 6.61525023)\n",
        "#0.16566279 é a segunda componente principal (para lambda = 6.61525023)\n",
        "\n",
        "\n",
        "#Assim para todas as linhas, referente a cada autovalor"
      ],
      "metadata": {
        "colab": {
          "base_uri": "https://localhost:8080/"
        },
        "id": "5Bg7fXugIVb-",
        "outputId": "4e518e04-61c3-46cd-fd7b-6665a914b6f0"
      },
      "execution_count": 109,
      "outputs": [
        {
          "output_type": "execute_result",
          "data": {
            "text/plain": [
              "array([[-0.90566764,  1.18783026, -0.4871275 ,  3.53999042],\n",
              "       [-1.28832516,  3.97114018, -1.50225886,  1.52101358],\n",
              "       [-0.74478331,  0.97726029, -3.15650995,  1.58956128],\n",
              "       [-0.76033767,  2.95045907,  0.16566279,  7.5953429 ],\n",
              "       [-0.92517228,  1.73530312,  3.8560618 ,  1.12408485],\n",
              "       [-0.34937593,  3.74863299, -0.21296937,  0.88336357]])"
            ]
          },
          "metadata": {},
          "execution_count": 109
        }
      ]
    },
    {
      "cell_type": "code",
      "source": [
        "media = np.mean(x, axis = 0)\n",
        "media"
      ],
      "metadata": {
        "colab": {
          "base_uri": "https://localhost:8080/"
        },
        "id": "cvNwOvwELQyy",
        "outputId": "3efc2412-354d-471a-d312-78bc787ec85d"
      },
      "execution_count": 110,
      "outputs": [
        {
          "output_type": "execute_result",
          "data": {
            "text/plain": [
              "array([1.16666667, 2.5       , 0.33333333, 2.5       ])"
            ]
          },
          "metadata": {},
          "execution_count": 110
        }
      ]
    },
    {
      "cell_type": "code",
      "source": [
        "(np.ones((4)))"
      ],
      "metadata": {
        "colab": {
          "base_uri": "https://localhost:8080/"
        },
        "id": "5UZdfHYUQrxT",
        "outputId": "c39c3d37-ca43-4d8c-9a9f-f120c7aa886d"
      },
      "execution_count": 111,
      "outputs": [
        {
          "output_type": "execute_result",
          "data": {
            "text/plain": [
              "array([1., 1., 1., 1.])"
            ]
          },
          "metadata": {},
          "execution_count": 111
        }
      ]
    },
    {
      "cell_type": "code",
      "source": [
        "y_barra = (x - ((np.ones((4))) @ media)) @ autovetores\n",
        "y_barra\n",
        "\n",
        "\n",
        "#cada linha de y_barra está ligado a uma observação, das observações de (x @ autovalores)"
      ],
      "metadata": {
        "colab": {
          "base_uri": "https://localhost:8080/"
        },
        "id": "KBlT5fWPP1mA",
        "outputId": "c4947d55-4a02-4805-aa74-d4aacedd0b86"
      },
      "execution_count": 112,
      "outputs": [
        {
          "output_type": "execute_result",
          "data": {
            "text/plain": [
              "array([[ 4.04042442, -9.53845591, -3.21949496, -1.15225065],\n",
              "       [ 3.65776691, -6.755146  , -4.23462631, -3.17122749],\n",
              "       [ 4.20130876, -9.74902588, -5.88887741, -3.10267979],\n",
              "       [ 4.1857544 , -7.7758271 , -2.56670466,  2.90310183],\n",
              "       [ 4.02091979, -8.99098305,  1.12369434, -3.56815622],\n",
              "       [ 4.59671613, -6.97765318, -2.94533683, -3.8088775 ]])"
            ]
          },
          "metadata": {},
          "execution_count": 112
        }
      ]
    },
    {
      "cell_type": "markdown",
      "source": [
        "Pontos principais:\n",
        "\n",
        "- identificar matrizes, com o intuito de calcular analises fatoriais (geometrica, PCA)\n",
        "\n",
        "- Computacionalmente identificar os maiores autovalores e os respectivos autovalores\n",
        "\n",
        "- Em seguida calcular os fatores para os dados de entrada"
      ],
      "metadata": {
        "id": "9RtqM3vwRPB7"
      }
    }
  ]
}